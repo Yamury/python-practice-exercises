{
 "cells": [
  {
   "cell_type": "code",
   "execution_count": 1,
   "id": "2be71927-564a-4e80-8653-618a7d2bdc85",
   "metadata": {},
   "outputs": [
    {
     "name": "stdout",
     "output_type": "stream",
     "text": [
      "[1, 'a', 'cat', 2, 3, 'dog', 4, 5]\n"
     ]
    }
   ],
   "source": [
    "def flatten(lst):\n",
    "    result = []\n",
    "    for item in lst:\n",
    "        if isinstance(item, list):\n",
    "            result.extend(flatten(item))  \n",
    "        else:\n",
    "            result.append(item)\n",
    "    return result\n",
    "\n",
    "input_data = [[1, 'a', ['cat'], 2], [[[3]], 'dog'], 4, 5]\n",
    "output = flatten(input_data)\n",
    "print(output)\n",
    "\n"
   ]
  },
  {
   "cell_type": "code",
   "execution_count": 2,
   "id": "3bc79b49-e523-4b4c-a3dc-f3196210e70f",
   "metadata": {},
   "outputs": [
    {
     "name": "stdout",
     "output_type": "stream",
     "text": [
      "[[7, 6, 5], [4, 3], [2, 1]]\n"
     ]
    }
   ],
   "source": [
    "def reversef(lst):\n",
    "    reversed_list = []\n",
    "    for item in reversed(lst):  \n",
    "        if isinstance(item, list):\n",
    "            reversed_list.append(reversef(item))  \n",
    "        else:\n",
    "            reversed_list.append(item)\n",
    "    return reversed_list\n",
    "\n",
    "\n",
    "input_data = [[1, 2], [3, 4], [5, 6, 7]]\n",
    "output = reversef(input_data)\n",
    "print(output)\n"
   ]
  },
  {
   "cell_type": "code",
   "execution_count": null,
   "id": "893cd77e-3ba8-4d78-97da-1b86499c52c1",
   "metadata": {},
   "outputs": [],
   "source": []
  }
 ],
 "metadata": {
  "kernelspec": {
   "display_name": "Python 3 (ipykernel)",
   "language": "python",
   "name": "python3"
  },
  "language_info": {
   "codemirror_mode": {
    "name": "ipython",
    "version": 3
   },
   "file_extension": ".py",
   "mimetype": "text/x-python",
   "name": "python",
   "nbconvert_exporter": "python",
   "pygments_lexer": "ipython3",
   "version": "3.12.7"
  }
 },
 "nbformat": 4,
 "nbformat_minor": 5
}
