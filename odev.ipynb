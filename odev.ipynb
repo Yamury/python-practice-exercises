{
  "nbformat": 4,
  "nbformat_minor": 0,
  "metadata": {
    "colab": {
      "provenance": []
    },
    "kernelspec": {
      "name": "python3",
      "display_name": "Python 3"
    },
    "language_info": {
      "name": "python"
    }
  },
  "cells": [
    {
      "cell_type": "code",
      "source": [
        "sayi= int(input(\"Sayıyı giriniz \"))\n",
        "if sayi == 0:\n",
        "    print(\"0 değeri negatif veya pozitif değildir\")\n",
        "elif sayi <0:\n",
        "    print(\"Değer negatiftir\")\n",
        "elif sayi >0:\n",
        "    print(\"Değer pozitiftir\")\n",
        "\n",
        "\n",
        ""
      ],
      "metadata": {
        "colab": {
          "base_uri": "https://localhost:8080/"
        },
        "id": "NQ2JoC5y4MBV",
        "outputId": "6a146572-ebc0-4b55-af96-2753c9d60a53"
      },
      "execution_count": 2,
      "outputs": [
        {
          "output_type": "stream",
          "name": "stdout",
          "text": [
            "Sayıyı giriniz -4\n",
            "Değer negatiftir\n"
          ]
        }
      ]
    },
    {
      "cell_type": "code",
      "source": [
        "sayi= int(input(\"Sayıyı giriniz\"))\n",
        "if sayi%2 == 0:\n",
        "    print(\"Girdiğiniz değer çift sayı\")\n",
        "else :\n",
        "    print(\"Girdiğiniz değer tek sayı\")"
      ],
      "metadata": {
        "colab": {
          "base_uri": "https://localhost:8080/"
        },
        "id": "ECpibi0m4IO8",
        "outputId": "0a5c8b82-ca7f-4391-8d12-04d429623541"
      },
      "execution_count": 3,
      "outputs": [
        {
          "output_type": "stream",
          "name": "stdout",
          "text": [
            "Sayıyı giriniz7\n",
            "Girdiğiniz değer tek sayı\n"
          ]
        }
      ]
    },
    {
      "cell_type": "code",
      "source": [
        "sinav_not= int(input(\"Sınav notunu giriniz \"))\n",
        "if 80<= sinav_not <=100:\n",
        "    print(\"Harf notu A\")\n",
        "elif 60<= sinav_not <80:\n",
        "    print(\"Harf notu B\")\n",
        "elif 50<= sinav_not <60:\n",
        "    print(\"Harf notu C\")\n",
        "else:\n",
        "    print(\"Dersten Kaldınız\")\n",
        "\n"
      ],
      "metadata": {
        "colab": {
          "base_uri": "https://localhost:8080/"
        },
        "id": "jQKGBUbF4ERi",
        "outputId": "67dea11b-bd81-475b-f9c3-c467eeb32331"
      },
      "execution_count": 4,
      "outputs": [
        {
          "output_type": "stream",
          "name": "stdout",
          "text": [
            "Sınav notunu giriniz 65\n",
            "Harf notu B\n"
          ]
        }
      ]
    },
    {
      "cell_type": "code",
      "source": [
        "isim=input(\"İsminizi girin \")\n",
        "if len(isim) > 5 :\n",
        "    print(\"Uzun bir isminiz var\")\n",
        "else:\n",
        "    print(isim)\n"
      ],
      "metadata": {
        "colab": {
          "base_uri": "https://localhost:8080/"
        },
        "id": "WcRo7HWn4Aje",
        "outputId": "ae81bcba-f8e4-43bb-e237-4b094267928d"
      },
      "execution_count": 5,
      "outputs": [
        {
          "output_type": "stream",
          "name": "stdout",
          "text": [
            "İsminizi girin Yağmur\n",
            "Uzun bir isminiz var\n"
          ]
        }
      ]
    },
    {
      "cell_type": "code",
      "source": [
        "sayi= int(input(\"Sayi giriniz: \"))\n",
        "if sayi <= 1:\n",
        "    print(\"Sayı asal değil\")\n",
        "else:\n",
        "    for i in range(2, sayi):\n",
        "        if sayi % i ==0:\n",
        "            print(\"Sayı asal değil\")\n",
        "            break\n",
        "        else:\n",
        "            print(\"Sayı asal\")\n",
        "            break"
      ],
      "metadata": {
        "colab": {
          "base_uri": "https://localhost:8080/"
        },
        "id": "uRkYKCMD37uU",
        "outputId": "10535611-9186-4311-99b9-19864b0d5261"
      },
      "execution_count": 6,
      "outputs": [
        {
          "output_type": "stream",
          "name": "stdout",
          "text": [
            "Sayi giriniz: 11\n",
            "Sayı asal\n"
          ]
        }
      ]
    },
    {
      "cell_type": "code",
      "source": [
        "sayi = int(input(\"Sayı giriniz: \"))\n",
        "i = 2\n",
        "asal = True\n",
        "\n",
        "if sayi <= 1:\n",
        "    print(\"Sayı asal değil\")\n",
        "else:\n",
        "    while i < sayi:\n",
        "        if sayi % i == 0:\n",
        "            asal = False\n",
        "        i += 1\n",
        "\n",
        "    if asal:\n",
        "        print(\"Sayı asal\")\n",
        "    else:\n",
        "        print(\"Sayı asal değil\")"
      ],
      "metadata": {
        "colab": {
          "base_uri": "https://localhost:8080/"
        },
        "id": "WVpiXoj433xa",
        "outputId": "088b478c-94d6-4b0a-bfb4-cfd95f8077ab"
      },
      "execution_count": 7,
      "outputs": [
        {
          "output_type": "stream",
          "name": "stdout",
          "text": [
            "Sayı giriniz: 13\n",
            "Sayı asal\n"
          ]
        }
      ]
    },
    {
      "cell_type": "code",
      "source": [
        "notlar= [45, 85, 75, 50]\n",
        "notlar.index(75)"
      ],
      "metadata": {
        "colab": {
          "base_uri": "https://localhost:8080/"
        },
        "id": "-M9zyhGm3zIP",
        "outputId": "2a985d59-6508-45a8-f56e-82eab4fcf385"
      },
      "execution_count": 8,
      "outputs": [
        {
          "output_type": "execute_result",
          "data": {
            "text/plain": [
              "2"
            ]
          },
          "metadata": {},
          "execution_count": 8
        }
      ]
    },
    {
      "cell_type": "code",
      "source": [
        "sayi = int(input(\"Faktöriyelini bulmak istediğiniz sayıyı girin: \"))\n",
        "factor = 1\n",
        "i = 1\n",
        "\n",
        "if sayi >= 0:\n",
        "    while i <= sayi:\n",
        "        factor *= i\n",
        "        i += 1\n",
        "    print(\"Girdiğiniz sayının faktöriyeli:\", factor)\n",
        "else:\n",
        "    print(\"Pozitif bir değer giriniz.\")\n"
      ],
      "metadata": {
        "colab": {
          "base_uri": "https://localhost:8080/"
        },
        "id": "oZG9bVG_3u3B",
        "outputId": "b051fc88-2509-4472-d6a9-27a3519abbb4"
      },
      "execution_count": 9,
      "outputs": [
        {
          "output_type": "stream",
          "name": "stdout",
          "text": [
            "Faktöriyelini bulmak istediğiniz sayıyı girin: 4\n",
            "Girdiğiniz sayının faktöriyeli: 24\n"
          ]
        }
      ]
    },
    {
      "cell_type": "code",
      "source": [
        "while True : #Döngünün sürekli çalışması için True\n",
        "    sayi= int(input(\"Pozitif bir sayı giriniz \"))\n",
        "    if sayi >0 :\n",
        "        print(sayi)\n",
        "        break\n",
        "    else:\n",
        "        print(\"Pozitif bir değer giriniz\")"
      ],
      "metadata": {
        "colab": {
          "base_uri": "https://localhost:8080/"
        },
        "id": "pdTNlfl63pY_",
        "outputId": "03568267-b4d1-4399-f34a-14a2e6766824"
      },
      "execution_count": 10,
      "outputs": [
        {
          "output_type": "stream",
          "name": "stdout",
          "text": [
            "Pozitif bir sayı giriniz -1\n",
            "Pozitif bir değer giriniz\n",
            "Pozitif bir sayı giriniz -3\n",
            "Pozitif bir değer giriniz\n",
            "Pozitif bir sayı giriniz 4\n",
            "4\n"
          ]
        }
      ]
    },
    {
      "cell_type": "code",
      "source": [
        "def faktoriyelHesap(sayi):\n",
        "    if sayi < 0:\n",
        "        return \"Negatif sayıların faktöriyeli yoktur.\"\n",
        "    sonuc = 1\n",
        "    i = 1\n",
        "    while i <= sayi:\n",
        "        sonuc *= i\n",
        "        i += 1\n",
        "    return sonuc\n",
        "s = int(input(\"Faktöriyeli alınacak sayıyı girin: \"))\n",
        "print(\"Faktöriyel:\", faktoriyelHesap(s))"
      ],
      "metadata": {
        "colab": {
          "base_uri": "https://localhost:8080/"
        },
        "id": "r0YxX8gg3ddk",
        "outputId": "69cbbc24-7527-40cd-9e14-2c56688442a2"
      },
      "execution_count": 11,
      "outputs": [
        {
          "output_type": "stream",
          "name": "stdout",
          "text": [
            "Faktöriyeli alınacak sayıyı girin: 7\n",
            "Faktöriyel: 5040\n"
          ]
        }
      ]
    },
    {
      "cell_type": "code",
      "source": [
        "def asalKontrol(sayi):\n",
        "    if sayi < 2:\n",
        "        return False\n",
        "    for i in range(2, int(sayi**0.5) + 1):\n",
        "        if sayi % i == 0:\n",
        "            return False\n",
        "    return True\n",
        "n = int(input(\"Asal sayı kontrolü için bir sayı girin: \"))\n",
        "if asalKontrol(n):\n",
        "    print(\"Asal bir sayıdır\")\n",
        "else:\n",
        "    print(\"Asal bir sayı değildir\")\n",
        ""
      ],
      "metadata": {
        "colab": {
          "base_uri": "https://localhost:8080/"
        },
        "id": "zqh39qyD3cvO",
        "outputId": "09783d5d-5c98-4228-dcca-336d3d857374"
      },
      "execution_count": 12,
      "outputs": [
        {
          "output_type": "stream",
          "name": "stdout",
          "text": [
            "Asal sayı kontrolü için bir sayı girin: 3\n",
            "Asal bir sayıdır\n"
          ]
        }
      ]
    }
  ]
}