{
 "cells": [
  {
   "cell_type": "code",
   "execution_count": 10,
   "id": "c260e863-4b5d-4ab5-8776-7e9d9dbdf14d",
   "metadata": {},
   "outputs": [],
   "source": [
    "import pandas as pd\n",
    "df1= pd.read_csv('test.csv')\n",
    "df2= pd.read_csv('train.csv')\n",
    "df3= pd.read_csv('gender_submission.csv')"
   ]
  },
  {
   "cell_type": "markdown",
   "id": "d5f08404-1101-4c34-8da7-99349a8d57b9",
   "metadata": {},
   "source": [
    "1. Kazada ölenlerin yaş ortalamasını bulunuz"
   ]
  },
  {
   "cell_type": "code",
   "execution_count": 13,
   "id": "69d688c8-36e5-46b4-8ba1-5fdb20e52c08",
   "metadata": {},
   "outputs": [
    {
     "data": {
      "text/plain": [
       "30.62617924528302"
      ]
     },
     "execution_count": 13,
     "metadata": {},
     "output_type": "execute_result"
    }
   ],
   "source": [
    "df2[df2.Survived == 0].Age.mean()"
   ]
  },
  {
   "cell_type": "markdown",
   "id": "72bcbf56-b29b-48eb-9773-8fcf134e5019",
   "metadata": {},
   "source": [
    "2. Kazada ölenlerin bilet fiyatlarının ortalamasını ve medyanını bulunuz"
   ]
  },
  {
   "cell_type": "code",
   "execution_count": 19,
   "id": "a2a47fac-8ff1-4456-9a39-4a05deabda0d",
   "metadata": {},
   "outputs": [
    {
     "data": {
      "text/plain": [
       "22.117886885245902"
      ]
     },
     "execution_count": 19,
     "metadata": {},
     "output_type": "execute_result"
    }
   ],
   "source": [
    "df2[df2.Survived == 0].Fare.mean()"
   ]
  },
  {
   "cell_type": "code",
   "execution_count": 20,
   "id": "d3f9afe5-7239-46e3-942b-dc9b9f16cd5d",
   "metadata": {},
   "outputs": [
    {
     "data": {
      "text/plain": [
       "22.117886885245902"
      ]
     },
     "execution_count": 20,
     "metadata": {},
     "output_type": "execute_result"
    }
   ],
   "source": [
    "df2[df2.Survived == 0].Fare.mean()"
   ]
  },
  {
   "cell_type": "markdown",
   "id": "b807c59e-2616-49db-8b6d-1eb1c32900ad",
   "metadata": {},
   "source": [
    "3. Kazada ölen erkeklerin yaş ortalamasını bulunuz"
   ]
  },
  {
   "cell_type": "code",
   "execution_count": 25,
   "id": "62dce786-9bfa-40b6-9947-da109b151493",
   "metadata": {},
   "outputs": [
    {
     "data": {
      "text/plain": [
       "31.618055555555557"
      ]
     },
     "execution_count": 25,
     "metadata": {},
     "output_type": "execute_result"
    }
   ],
   "source": [
    "df2[(df2.Survived == 0) & (df2.Sex==\"male\")].Age.mean()"
   ]
  },
  {
   "cell_type": "markdown",
   "id": "435d5fb7-f9fe-4053-91aa-3815bc5a4116",
   "metadata": {},
   "source": [
    "4. Kazada ölen Kadınların yaş ortalamasını bulunuz"
   ]
  },
  {
   "cell_type": "code",
   "execution_count": 26,
   "id": "672a8228-c568-4ea2-95b9-ceae36709760",
   "metadata": {},
   "outputs": [
    {
     "data": {
      "text/plain": [
       "25.046875"
      ]
     },
     "execution_count": 26,
     "metadata": {},
     "output_type": "execute_result"
    }
   ],
   "source": [
    "df2[(df2.Survived == 0) & (df2.Sex==\"female\")].Age.mean()"
   ]
  },
  {
   "cell_type": "markdown",
   "id": "24e15ee6-f477-45fc-9129-bc9178d3ab1c",
   "metadata": {},
   "source": [
    "5. Kazadan kurtulanların yaş ortalamasını bulunuz"
   ]
  },
  {
   "cell_type": "code",
   "execution_count": 27,
   "id": "d7f40f78-87b1-40d0-a3a9-dc27f8082db8",
   "metadata": {},
   "outputs": [
    {
     "data": {
      "text/plain": [
       "28.343689655172415"
      ]
     },
     "execution_count": 27,
     "metadata": {},
     "output_type": "execute_result"
    }
   ],
   "source": [
    "df2[df2.Survived ==1 ].Age.mean()"
   ]
  },
  {
   "cell_type": "markdown",
   "id": "42d0004e-f4b0-4c8d-87f8-c894deba6ad9",
   "metadata": {},
   "source": [
    "6. Kazadan kurtulanların bilet fiyatlarının ortalamasını bulunuz"
   ]
  },
  {
   "cell_type": "code",
   "execution_count": 28,
   "id": "370efd10-38bb-45ff-9ee7-98b469f803ab",
   "metadata": {},
   "outputs": [
    {
     "data": {
      "text/plain": [
       "48.39540760233918"
      ]
     },
     "execution_count": 28,
     "metadata": {},
     "output_type": "execute_result"
    }
   ],
   "source": [
    "df2[df2.Survived == 1].Fare.mean()"
   ]
  },
  {
   "cell_type": "markdown",
   "id": "5ccc04a1-8867-498e-8278-e79ea527c0e3",
   "metadata": {},
   "source": [
    "7. Kazadan kurtulan toplam kişi sayısını bulunuz"
   ]
  },
  {
   "cell_type": "code",
   "execution_count": 30,
   "id": "d6192e10-8b5a-4f7b-b116-ea9981bdb61d",
   "metadata": {},
   "outputs": [
    {
     "data": {
      "text/plain": [
       "342"
      ]
     },
     "execution_count": 30,
     "metadata": {},
     "output_type": "execute_result"
    }
   ],
   "source": [
    "len(df2[(df2.Survived==1)])"
   ]
  },
  {
   "cell_type": "markdown",
   "id": "6005335f-3e3b-4840-b99a-9f6bfb0932ee",
   "metadata": {},
   "source": [
    "8. 10 yaşından küçüklerin bilet fiyatlarının medyan değerini bulunuz"
   ]
  },
  {
   "cell_type": "code",
   "execution_count": 31,
   "id": "898fd316-3b25-4888-ba4c-8bb448fa5f9b",
   "metadata": {},
   "outputs": [
    {
     "data": {
      "text/plain": [
       "27.0"
      ]
     },
     "execution_count": 31,
     "metadata": {},
     "output_type": "execute_result"
    }
   ],
   "source": [
    "df2[df2.Age < 10].Fare.median()"
   ]
  },
  {
   "cell_type": "markdown",
   "id": "b8a8d0ec-48e6-47ba-af86-3b5eba77ab3c",
   "metadata": {},
   "source": [
    "9. 1.sınıf, 2.sınıf ve 3.sınıf bilet fiyatlarının ortalama ve medyanlarını karşılaştırınız."
   ]
  },
  {
   "cell_type": "code",
   "execution_count": 34,
   "id": "e994c3fb-0751-433b-8aec-e1c477965829",
   "metadata": {},
   "outputs": [
    {
     "data": {
      "text/plain": [
       "Pclass\n",
       "1    60.2875\n",
       "2    14.2500\n",
       "3     8.0500\n",
       "Name: Fare, dtype: float64"
      ]
     },
     "execution_count": 34,
     "metadata": {},
     "output_type": "execute_result"
    }
   ],
   "source": [
    "df2.groupby(\"Pclass\").Fare.mean()\n",
    "df2.groupby(\"Pclass\").Fare.median()"
   ]
  },
  {
   "cell_type": "markdown",
   "id": "2433f244-f737-4f91-ad2c-b95a75655f2a",
   "metadata": {},
   "source": [
    "10. Kazada ölen kadınların oranı ile erkeklerin oranını karşılaştırınız."
   ]
  },
  {
   "cell_type": "code",
   "execution_count": 36,
   "id": "1519bb1d-1e59-49b0-914b-fb997d1c815c",
   "metadata": {},
   "outputs": [
    {
     "data": {
      "text/plain": [
       "0.8110918544194108"
      ]
     },
     "execution_count": 36,
     "metadata": {},
     "output_type": "execute_result"
    }
   ],
   "source": [
    "(df2[(df2.Sex == \"male\") & (df2.Survived == 0)].shape[0]) / df2[df2.Sex == \"male\"].shape[0]"
   ]
  },
  {
   "cell_type": "code",
   "execution_count": 37,
   "id": "5ff8a7f8-42c6-40dc-9a0a-d93e8a832752",
   "metadata": {},
   "outputs": [
    {
     "data": {
      "text/plain": [
       "0.25796178343949044"
      ]
     },
     "execution_count": 37,
     "metadata": {},
     "output_type": "execute_result"
    }
   ],
   "source": [
    "(df2[(df2.Sex == \"female\") & (df2.Survived == 0)].shape[0]) / df2[df2.Sex == \"female\"].shape[0]"
   ]
  }
 ],
 "metadata": {
  "kernelspec": {
   "display_name": "Python 3 (ipykernel)",
   "language": "python",
   "name": "python3"
  },
  "language_info": {
   "codemirror_mode": {
    "name": "ipython",
    "version": 3
   },
   "file_extension": ".py",
   "mimetype": "text/x-python",
   "name": "python",
   "nbconvert_exporter": "python",
   "pygments_lexer": "ipython3",
   "version": "3.12.7"
  }
 },
 "nbformat": 4,
 "nbformat_minor": 5
}
