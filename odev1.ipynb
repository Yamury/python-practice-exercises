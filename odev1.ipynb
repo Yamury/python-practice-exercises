{
 "cells": [
  {
   "cell_type": "code",
   "execution_count": 15,
   "id": "0a936623",
   "metadata": {},
   "outputs": [
    {
     "name": "stdout",
     "output_type": "stream",
     "text": [
      "Sayıyı giriniz -4\n",
      "Değer negatiftir\n"
     ]
    }
   ],
   "source": [
    "sayi= int(input(\"Sayıyı giriniz \"))\n",
    "if sayi == 0:\n",
    "    print(\"0 değeri negatif veya pozitif değildir\")\n",
    "elif sayi <0:\n",
    "    print(\"Değer negatiftir\")\n",
    "elif sayi >0:\n",
    "    print(\"Değer pozitiftir\")\n",
    "   \n",
    "\n",
    "    "
   ]
  },
  {
   "cell_type": "code",
   "execution_count": null,
   "id": "5bdf6b12",
   "metadata": {},
   "outputs": [],
   "source": [
    "sayi= int(input(\"Sayıyı giriniz\"))\n",
    "if sayi%2 == 0:\n",
    "    print(\"Girdiğiniz değer çift sayı\")\n",
    "else :\n",
    "    print(\"Girdiğiniz değer tek sayı\")"
   ]
  },
  {
   "cell_type": "code",
   "execution_count": null,
   "id": "61460d13",
   "metadata": {},
   "outputs": [],
   "source": [
    "sinav_not= int(input(\"Sınav notunu giriniz \"))\n",
    "if 80<= sinav_not <=100:\n",
    "    print(\"Harf notu A\")\n",
    "elif 60<= sinav_not <80:\n",
    "    print(\"Harf notu B\")\n",
    "elif 50<= sinav_not <60:\n",
    "    print(\"Harf notu C\")\n",
    "else:\n",
    "    print(\"Dersten Kaldınız\")\n",
    "\n"
   ]
  },
  {
   "cell_type": "code",
   "execution_count": null,
   "id": "47cbb145",
   "metadata": {},
   "outputs": [],
   "source": [
    "isim=input(\"İsminizi girin \")\n",
    "if len(isim) > 5 :\n",
    "    print(\"Uzun bir isminiz var\")\n",
    "else:\n",
    "    print(isim)\n"
   ]
  },
  {
   "cell_type": "code",
   "execution_count": null,
   "id": "90c9da30",
   "metadata": {},
   "outputs": [],
   "source": [
    "sayi= int(input(\"Sayi giriniz: \"))\n",
    "if sayi <= 1:\n",
    "    print(\"Sayı asal değil\")\n",
    "else:\n",
    "    for i in range(2, sayi):\n",
    "        if sayi % i ==0:\n",
    "            print(\"Sayı asal değil\")\n",
    "            break\n",
    "        else:\n",
    "            print(\"Sayı asal\")\n",
    "            break"
   ]
  },
  {
   "cell_type": "code",
   "execution_count": null,
   "id": "43ac3b7a",
   "metadata": {},
   "outputs": [],
   "source": [
    "sayi = int(input(\"Sayı giriniz: \"))\n",
    "i = 2\n",
    "asal = True\n",
    "\n",
    "if sayi <= 1:\n",
    "    print(\"Sayı asal değil\")\n",
    "else:\n",
    "    while i < sayi:\n",
    "        if sayi % i == 0:\n",
    "            asal = False\n",
    "        i += 1\n",
    "\n",
    "    if asal:\n",
    "        print(\"Sayı asal\")\n",
    "    else:\n",
    "        print(\"Sayı asal değil\")\n"
   ]
  },
  {
   "cell_type": "code",
   "execution_count": null,
   "id": "e0caaec1",
   "metadata": {},
   "outputs": [],
   "source": [
    "notlar= [45, 85, 75, 50]\n",
    "notlar.index(75)"
   ]
  },
  {
   "cell_type": "code",
   "execution_count": null,
   "id": "060f115f",
   "metadata": {},
   "outputs": [],
   "source": [
    "sayi = int(input(\"Faktöriyelini bulmak istediğiniz sayıyı girin: \"))\n",
    "factor = 1\n",
    "i = 1\n",
    "\n",
    "if sayi >= 0:\n",
    "    while i <= sayi:\n",
    "        factor *= i\n",
    "        i += 1\n",
    "    print(\"Girdiğiniz sayının faktöriyeli:\", factor)\n",
    "else:\n",
    "    print(\"Pozitif bir değer giriniz.\")\n"
   ]
  },
  {
   "cell_type": "code",
   "execution_count": 5,
   "id": "e5927866",
   "metadata": {},
   "outputs": [
    {
     "name": "stdout",
     "output_type": "stream",
     "text": [
      "Pozitif bir sayı giriniz -9\n",
      "Pozitif bir değer giriniz\n",
      "Pozitif bir sayı giriniz -4\n",
      "Pozitif bir değer giriniz\n",
      "Pozitif bir sayı giriniz 3\n",
      "3\n"
     ]
    }
   ],
   "source": [
    "while True : #Döngünün sürekli çalışması için True    \n",
    "    sayi= int(input(\"Pozitif bir sayı giriniz \"))\n",
    "    if sayi >0 :\n",
    "        print(sayi)\n",
    "        break\n",
    "    else:\n",
    "        print(\"Pozitif bir değer giriniz\")"
   ]
  },
  {
   "cell_type": "code",
   "execution_count": 14,
   "id": "6ad42e9e",
   "metadata": {},
   "outputs": [
    {
     "name": "stdout",
     "output_type": "stream",
     "text": [
      "Faktöriyeli alınacak sayıyı girin: 5\n",
      "Faktöriyel: 120\n"
     ]
    }
   ],
   "source": [
    "def faktoriyelHesap(sayi):\n",
    "    if sayi < 0:\n",
    "        return \"Negatif sayıların faktöriyeli yoktur.\"\n",
    "    sonuc = 1\n",
    "    i = 1\n",
    "    while i <= sayi:\n",
    "        sonuc *= i\n",
    "        i += 1\n",
    "    return sonuc\n",
    "s = int(input(\"Faktöriyeli alınacak sayıyı girin: \"))\n",
    "print(\"Faktöriyel:\", faktoriyelHesap(s))\n"
   ]
  },
  {
   "cell_type": "code",
   "execution_count": 13,
   "id": "7a49493c",
   "metadata": {},
   "outputs": [
    {
     "name": "stdout",
     "output_type": "stream",
     "text": [
      "Asal sayı kontrolü için bir sayı girin: 5\n",
      "Asal bir sayıdır\n"
     ]
    }
   ],
   "source": [
    "def asalKontrol(sayi):\n",
    "    if sayi < 2:\n",
    "        return False\n",
    "    for i in range(2, int(sayi**0.5) + 1):\n",
    "        if sayi % i == 0:\n",
    "            return False\n",
    "    return True\n",
    "n = int(input(\"Asal sayı kontrolü için bir sayı girin: \"))\n",
    "if asalKontrol(n):\n",
    "    print(\"Asal bir sayıdır\")\n",
    "else:\n",
    "    print(\"Asal bir sayı değildir.\")\n"
   ]
  },
  {
   "cell_type": "code",
   "execution_count": null,
   "id": "6a18c3c0",
   "metadata": {},
   "outputs": [],
   "source": []
  }
 ],
 "metadata": {
  "kernelspec": {
   "display_name": "Python 3 (ipykernel)",
   "language": "python",
   "name": "python3"
  },
  "language_info": {
   "codemirror_mode": {
    "name": "ipython",
    "version": 3
   },
   "file_extension": ".py",
   "mimetype": "text/x-python",
   "name": "python",
   "nbconvert_exporter": "python",
   "pygments_lexer": "ipython3",
   "version": "3.11.5"
  }
 },
 "nbformat": 4,
 "nbformat_minor": 5
}
